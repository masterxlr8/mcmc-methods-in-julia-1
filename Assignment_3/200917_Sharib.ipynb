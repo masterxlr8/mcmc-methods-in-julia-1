{
 "cells": [
  {
   "cell_type": "markdown",
   "id": "6b6d6a03",
   "metadata": {},
   "source": [
    "# Question 1\n",
    "The pdf of Standard Cauchy Distribution is $\\frac{1}{\\pi(1+x^{2})}$ <p>\n",
    "And pdf of Standard Normal Distribution is $\\frac{\\exp^{\\frac{-x^2}{2}}}{\\sqrt{2\\pi}}$ <p>\n",
    "Variance of estimator is : $Var_{g}(\\frac{x\\pi(X)}{g(X)}) = Var_{g}(\\frac{x\\frac{1}{\\pi(1+x^{2})}}{\\frac{\\exp^{\\frac{-x^2}{2}}}{\\sqrt{2\\pi}}})\n",
    "                               = Var_{g}(\\frac{x\\exp^{\\frac{x^2}{2}}\\sqrt{2\\pi}}{\\pi(1+x^{2})})$ which clearly diverges as $\\frac{x\\exp^{\\frac{x^2}{2}}}{\\pi(1+x^{2})}$ goes to infinity as x goes to infinity which implies that 2nd moment diverges which implies that variance diverges. So, the estimator doesn't have finite variance.\n",
    "    "
   ]
  },
  {
   "cell_type": "markdown",
   "id": "76b346da",
   "metadata": {},
   "source": [
    "# Question 2\n",
    "(a) Yes, the weighted importance estimator has finite variance. Because, $g(x)$ is proportional to $g^{\\sim}(x)$ and $sup(\\frac{f(x)}{g(x)})$ is finite. So, $sup(\\frac{f(x)}{g^{\\sim}(x)})$ is also finite. <p>\n",
    "(b) In accept reject, more number of iterations is required to get the desired result as some proposed values get rejected. So, importance sampling is better."
   ]
  },
  {
   "cell_type": "markdown",
   "id": "8c2b7128",
   "metadata": {},
   "source": [
    "# Question 3"
   ]
  },
  {
   "cell_type": "code",
   "execution_count": 3,
   "id": "cdc8715a",
   "metadata": {},
   "outputs": [
    {
     "data": {
      "text/plain": [
       "targetdist (generic function with 1 method)"
      ]
     },
     "execution_count": 3,
     "metadata": {},
     "output_type": "execute_result"
    }
   ],
   "source": [
    "using Distributions\n",
    "using StatsPlots\n",
    "using Random\n",
    "using StatsBase\n",
    "\n",
    "Random.seed!(1)\n",
    "\n",
    "function sampleTdist(ν, n)\n",
    "    global Y = []\n",
    "    for i in 1:n\n",
    "        append!(Y,rand(Tdist(ν)))\n",
    "    end\n",
    "    return Y\n",
    "end\n",
    "\n",
    "function targetdist(Y, x, ν, n)\n",
    "    global t = ℯ^(-x^2/2)\n",
    "    for i in 1:n\n",
    "        t = t*(1+(Y[i]-x)^2/ν)^(-(ν+1)/2)\n",
    "    end\n",
    "    return t\n",
    "end\n",
    "    "
   ]
  },
  {
   "cell_type": "code",
   "execution_count": 4,
   "id": "e030d4b2",
   "metadata": {},
   "outputs": [
    {
     "data": {
      "text/plain": [
       "weightedimpsampler (generic function with 1 method)"
      ]
     },
     "execution_count": 4,
     "metadata": {},
     "output_type": "execute_result"
    }
   ],
   "source": [
    "function weightedimpsampler(ν, n)\n",
    "    global wgtsum = 0\n",
    "    global numsum = 0\n",
    "    global wgtarr = []\n",
    "    global wgtsqarr = []\n",
    "    for i in 1:n \n",
    "        Y = sampleTdist(ν, n)\n",
    "        a = rand(Normal(0,1))\n",
    "        num = a*targetdist(Y, a, ν, n)\n",
    "        den = targetdist(Y, a, ν, n)\n",
    "        wgtarr[i] = den\n",
    "        wgtsqarr[i] = den^2\n",
    "        numsum = numsum + num\n",
    "        wgtsum = wgtsum + den\n",
    "    end\n",
    "    var = (mean(wgtsqarr))/(mean(wgtarr))^2\n",
    "    println(\"Variance :\", var)\n",
    "    return numsum/wgtsum\n",
    "end\n",
    "    "
   ]
  },
  {
   "cell_type": "code",
   "execution_count": 8,
   "id": "83b2cb32",
   "metadata": {},
   "outputs": [
    {
     "name": "stdout",
     "output_type": "stream",
     "text": [
      "For v=5\n"
     ]
    },
    {
     "ename": "LoadError",
     "evalue": "UndefVarError: randTdist not defined",
     "output_type": "error",
     "traceback": [
      "UndefVarError: randTdist not defined",
      "",
      "Stacktrace:",
      " [1] sampleTdist(ν::Int64, n::Int64)",
      "   @ Main .\\In[3]:11",
      " [2] weightedimpsampler(ν::Int64, n::Int64)",
      "   @ Main .\\In[4]:7",
      " [3] top-level scope",
      "   @ In[8]:4",
      " [4] eval",
      "   @ .\\boot.jl:373 [inlined]",
      " [5] include_string(mapexpr::typeof(REPL.softscope), mod::Module, code::String, filename::String)",
      "   @ Base .\\loading.jl:1196"
     ]
    }
   ],
   "source": [
    "println(\"For v=5\")\n",
    "n = 100000\n",
    "ν = 5\n",
    "weightedimpsampler(ν, n)"
   ]
  },
  {
   "cell_type": "code",
   "execution_count": null,
   "id": "1ae93ab8",
   "metadata": {},
   "outputs": [],
   "source": []
  }
 ],
 "metadata": {
  "kernelspec": {
   "display_name": "Julia 1.7.2",
   "language": "julia",
   "name": "julia-1.7"
  },
  "language_info": {
   "file_extension": ".jl",
   "mimetype": "application/julia",
   "name": "julia",
   "version": "1.7.2"
  }
 },
 "nbformat": 4,
 "nbformat_minor": 5
}
